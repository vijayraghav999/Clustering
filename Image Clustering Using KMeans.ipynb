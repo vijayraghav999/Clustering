{
 "cells": [
  {
   "cell_type": "markdown",
   "metadata": {},
   "source": [
    "# Dataset\n",
    "## The CIFAR-10 dataset\n",
    "The CIFAR-10 dataset consists of 60000 32x32 colour images in 10 classes, with 6000 images per class. There are 50000 training images and 10000 test images.\n",
    "\n",
    "The dataset is divided into five training batches and one test batch, each with 10000 images. The test batch contains exactly 1000 randomly-selected images from each class. The training batches contain the remaining images in random order, but some training batches may contain more images from one class than another. Between them, the training batches contain exactly 5000 images from each class.\n",
    "\n",
    "You can check and download the dataset from [here](https://www.cs.toronto.edu/~kriz/cifar.html)"
   ]
  },
  {
   "cell_type": "markdown",
   "metadata": {},
   "source": [
    "## Loading Dataset Into Memory\n",
    "\n",
    "Wrote my own ImageDataLoader Class that is extendible to support multiple datasets in the future as well.\n",
    "It loads the dataset using the directory path, and returns four results: **train_X, train_y , test_X , test_y** \n",
    "\n",
    "Although clustering does not make use of the labels since this is an unsupervised learning algorithm.\n",
    "This is intended to support a general case ImageDataLoader not specifically built for the image clustering problem. "
   ]
  },
  {
   "cell_type": "code",
   "execution_count": 2,
   "metadata": {},
   "outputs": [
    {
     "name": "stderr",
     "output_type": "stream",
     "text": [
      "100%|██████████| 5/5 [00:02<00:00,  2.02it/s]\n"
     ]
    }
   ],
   "source": [
    "from source.data_loader import ImageDataLoader\n",
    "data_loader = ImageDataLoader()\n",
    "train_X, train_y , test_X , test_y = data_loader.load_cifar10(\"./cifar-10-batches-py\", num_batches = 5)"
   ]
  },
  {
   "cell_type": "markdown",
   "metadata": {},
   "source": [
    "## Clustering Using KMeans\n",
    "\n",
    "The purpose of K-means is to **identify groups**, or clusters of data points in a multidimensional space. The number K in K-means is the number of clusters to create. Initial cluster means are usually chosen at random.\n",
    "\n",
    "K-means is usually implemented as an **iterative procedure** in which each iteration involves two successive steps. The first step is to assign each of the data points to a cluster. The second step is to modify the cluster means so that they become the mean of all the points assigned to that cluster.\n",
    "\n",
    "The **quality** of the current assignment is given by the **distortion measure** which is the sum of squared distances between each cluster centroid and points inside the cluster."
   ]
  },
  {
   "cell_type": "code",
   "execution_count": 3,
   "metadata": {
    "scrolled": false
   },
   "outputs": [
    {
     "name": "stderr",
     "output_type": "stream",
     "text": [
      "  0%|          | 0/1 [00:00<?, ?it/s]\n",
      "  0%|          | 0/300 [00:00<?, ?it/s]\u001b[A\n",
      "  0%|          | 1/300 [00:02<12:25,  2.49s/it]\u001b[A"
     ]
    },
    {
     "name": "stdout",
     "output_type": "stream",
     "text": [
      "Restart 1  Iteration 1\n",
      "The Error of this iteration is  6454.0255124163195\n",
      "The Distoration Measure score of this assignment is  736211338.4420099\n"
     ]
    },
    {
     "name": "stderr",
     "output_type": "stream",
     "text": [
      "\n",
      "  1%|          | 2/300 [00:04<12:15,  2.47s/it]\u001b[A"
     ]
    },
    {
     "name": "stdout",
     "output_type": "stream",
     "text": [
      "Restart 1  Iteration 2\n",
      "The Error of this iteration is  1029.543448790343\n",
      "The Distoration Measure score of this assignment is  552010069.2635128\n"
     ]
    },
    {
     "name": "stderr",
     "output_type": "stream",
     "text": [
      "\n",
      "  1%|          | 3/300 [00:07<12:06,  2.45s/it]\u001b[A"
     ]
    },
    {
     "name": "stdout",
     "output_type": "stream",
     "text": [
      "Restart 1  Iteration 3\n",
      "The Error of this iteration is  247.8135654194893\n",
      "The Distoration Measure score of this assignment is  564756659.3375537\n"
     ]
    },
    {
     "name": "stderr",
     "output_type": "stream",
     "text": [
      "\n",
      "  1%|▏         | 4/300 [00:09<12:00,  2.43s/it]\u001b[A"
     ]
    },
    {
     "name": "stdout",
     "output_type": "stream",
     "text": [
      "Restart 1  Iteration 4\n",
      "The Error of this iteration is  130.7571690482471\n",
      "The Distoration Measure score of this assignment is  568177505.4971395\n"
     ]
    },
    {
     "name": "stderr",
     "output_type": "stream",
     "text": [
      "\n",
      "  2%|▏         | 5/300 [00:12<11:54,  2.42s/it]\u001b[A"
     ]
    },
    {
     "name": "stdout",
     "output_type": "stream",
     "text": [
      "Restart 1  Iteration 5\n",
      "The Error of this iteration is  95.38333940619506\n",
      "The Distoration Measure score of this assignment is  570415171.739671\n"
     ]
    },
    {
     "name": "stderr",
     "output_type": "stream",
     "text": [
      "\n",
      "  2%|▏         | 6/300 [00:14<11:49,  2.41s/it]\u001b[A"
     ]
    },
    {
     "name": "stdout",
     "output_type": "stream",
     "text": [
      "Restart 1  Iteration 6\n",
      "The Error of this iteration is  82.25758515157054\n",
      "The Distoration Measure score of this assignment is  571945091.8259251\n"
     ]
    },
    {
     "name": "stderr",
     "output_type": "stream",
     "text": [
      "\n",
      "  2%|▏         | 7/300 [00:16<11:43,  2.40s/it]\u001b[A"
     ]
    },
    {
     "name": "stdout",
     "output_type": "stream",
     "text": [
      "Restart 1  Iteration 7\n",
      "The Error of this iteration is  75.2805870753218\n",
      "The Distoration Measure score of this assignment is  572958306.2255691\n"
     ]
    },
    {
     "name": "stderr",
     "output_type": "stream",
     "text": [
      "\n",
      "  3%|▎         | 8/300 [00:19<11:40,  2.40s/it]\u001b[A"
     ]
    },
    {
     "name": "stdout",
     "output_type": "stream",
     "text": [
      "Restart 1  Iteration 8\n",
      "The Error of this iteration is  74.28219705593563\n",
      "The Distoration Measure score of this assignment is  573593609.759007\n"
     ]
    },
    {
     "name": "stderr",
     "output_type": "stream",
     "text": [
      "\n",
      "  3%|▎         | 9/300 [00:21<11:38,  2.40s/it]\u001b[A"
     ]
    },
    {
     "name": "stdout",
     "output_type": "stream",
     "text": [
      "Restart 1  Iteration 9\n",
      "The Error of this iteration is  67.52155304841564\n",
      "The Distoration Measure score of this assignment is  574218554.9954886\n"
     ]
    },
    {
     "name": "stderr",
     "output_type": "stream",
     "text": [
      "\n",
      "  3%|▎         | 10/300 [00:24<11:36,  2.40s/it]\u001b[A"
     ]
    },
    {
     "name": "stdout",
     "output_type": "stream",
     "text": [
      "Restart 1  Iteration 10\n",
      "The Error of this iteration is  63.92872957034326\n",
      "The Distoration Measure score of this assignment is  574679905.9101065\n"
     ]
    },
    {
     "name": "stderr",
     "output_type": "stream",
     "text": [
      "\n",
      "  4%|▎         | 11/300 [00:26<11:31,  2.39s/it]\u001b[A"
     ]
    },
    {
     "name": "stdout",
     "output_type": "stream",
     "text": [
      "Restart 1  Iteration 11\n",
      "The Error of this iteration is  63.953185279219184\n",
      "The Distoration Measure score of this assignment is  575089722.0438623\n"
     ]
    },
    {
     "name": "stderr",
     "output_type": "stream",
     "text": [
      "\n",
      "  4%|▍         | 12/300 [00:28<11:29,  2.40s/it]\u001b[A"
     ]
    },
    {
     "name": "stdout",
     "output_type": "stream",
     "text": [
      "Restart 1  Iteration 12\n",
      "The Error of this iteration is  60.69715916691178\n",
      "The Distoration Measure score of this assignment is  575428756.4959744\n"
     ]
    },
    {
     "name": "stderr",
     "output_type": "stream",
     "text": [
      "\n",
      "  4%|▍         | 13/300 [00:31<11:29,  2.40s/it]\u001b[A"
     ]
    },
    {
     "name": "stdout",
     "output_type": "stream",
     "text": [
      "Restart 1  Iteration 13\n",
      "The Error of this iteration is  60.93928674904088\n",
      "The Distoration Measure score of this assignment is  575648129.1770102\n"
     ]
    },
    {
     "name": "stderr",
     "output_type": "stream",
     "text": [
      "\n",
      "  5%|▍         | 14/300 [00:33<11:27,  2.40s/it]\u001b[A"
     ]
    },
    {
     "name": "stdout",
     "output_type": "stream",
     "text": [
      "Restart 1  Iteration 14\n",
      "The Error of this iteration is  60.521922931804006\n",
      "The Distoration Measure score of this assignment is  575854008.1501585\n"
     ]
    },
    {
     "name": "stderr",
     "output_type": "stream",
     "text": [
      "\n",
      "  5%|▌         | 15/300 [00:36<11:22,  2.39s/it]\u001b[A"
     ]
    },
    {
     "name": "stdout",
     "output_type": "stream",
     "text": [
      "Restart 1  Iteration 15\n",
      "The Error of this iteration is  57.85254334310766\n",
      "The Distoration Measure score of this assignment is  576076691.2234118\n"
     ]
    },
    {
     "name": "stderr",
     "output_type": "stream",
     "text": [
      "\n",
      "  5%|▌         | 16/300 [00:38<11:22,  2.40s/it]\u001b[A"
     ]
    },
    {
     "name": "stdout",
     "output_type": "stream",
     "text": [
      "Restart 1  Iteration 16\n",
      "The Error of this iteration is  54.96209625287293\n",
      "The Distoration Measure score of this assignment is  576234373.506193\n"
     ]
    },
    {
     "name": "stderr",
     "output_type": "stream",
     "text": [
      "\n",
      "  6%|▌         | 17/300 [00:40<11:18,  2.40s/it]\u001b[A"
     ]
    },
    {
     "name": "stdout",
     "output_type": "stream",
     "text": [
      "Restart 1  Iteration 17\n",
      "The Error of this iteration is  57.340631086531936\n",
      "The Distoration Measure score of this assignment is  576327602.618876\n"
     ]
    },
    {
     "name": "stderr",
     "output_type": "stream",
     "text": [
      "\n",
      "  6%|▌         | 18/300 [00:43<11:17,  2.40s/it]\u001b[A"
     ]
    },
    {
     "name": "stdout",
     "output_type": "stream",
     "text": [
      "Restart 1  Iteration 18\n",
      "The Error of this iteration is  54.66892547137958\n",
      "The Distoration Measure score of this assignment is  576538072.2470121\n"
     ]
    },
    {
     "name": "stderr",
     "output_type": "stream",
     "text": [
      "\n",
      "  6%|▋         | 19/300 [00:45<11:12,  2.39s/it]\u001b[A"
     ]
    },
    {
     "name": "stdout",
     "output_type": "stream",
     "text": [
      "Restart 1  Iteration 19\n",
      "The Error of this iteration is  55.60952137813569\n",
      "The Distoration Measure score of this assignment is  576650213.0276229\n"
     ]
    },
    {
     "name": "stderr",
     "output_type": "stream",
     "text": [
      "\n",
      "  7%|▋         | 20/300 [00:47<11:08,  2.39s/it]\u001b[A"
     ]
    },
    {
     "name": "stdout",
     "output_type": "stream",
     "text": [
      "Restart 1  Iteration 20\n",
      "The Error of this iteration is  52.348851256114806\n",
      "The Distoration Measure score of this assignment is  576771089.5563279\n"
     ]
    },
    {
     "name": "stderr",
     "output_type": "stream",
     "text": [
      "\n",
      "  7%|▋         | 21/300 [00:50<11:07,  2.39s/it]\u001b[A"
     ]
    },
    {
     "name": "stdout",
     "output_type": "stream",
     "text": [
      "Restart 1  Iteration 21\n",
      "The Error of this iteration is  47.453518328525526\n",
      "The Distoration Measure score of this assignment is  576831528.3778876\n"
     ]
    },
    {
     "name": "stderr",
     "output_type": "stream",
     "text": [
      "\n",
      "  7%|▋         | 22/300 [00:52<11:03,  2.39s/it]\u001b[A"
     ]
    },
    {
     "name": "stdout",
     "output_type": "stream",
     "text": [
      "Restart 1  Iteration 22\n",
      "The Error of this iteration is  43.636016098501514\n",
      "The Distoration Measure score of this assignment is  576799253.8492826\n"
     ]
    },
    {
     "name": "stderr",
     "output_type": "stream",
     "text": [
      "\n",
      "  8%|▊         | 23/300 [00:55<11:00,  2.38s/it]\u001b[A"
     ]
    },
    {
     "name": "stdout",
     "output_type": "stream",
     "text": [
      "Restart 1  Iteration 23\n",
      "The Error of this iteration is  47.23701725262645\n",
      "The Distoration Measure score of this assignment is  576780060.3592252\n"
     ]
    },
    {
     "name": "stderr",
     "output_type": "stream",
     "text": [
      "\n",
      "  8%|▊         | 24/300 [00:57<11:03,  2.40s/it]\u001b[A"
     ]
    },
    {
     "name": "stdout",
     "output_type": "stream",
     "text": [
      "Restart 1  Iteration 24\n",
      "The Error of this iteration is  46.90725184974523\n",
      "The Distoration Measure score of this assignment is  576733084.9296957\n"
     ]
    },
    {
     "name": "stderr",
     "output_type": "stream",
     "text": [
      "\n",
      "  8%|▊         | 25/300 [00:59<10:59,  2.40s/it]\u001b[A"
     ]
    },
    {
     "name": "stdout",
     "output_type": "stream",
     "text": [
      "Restart 1  Iteration 25\n",
      "The Error of this iteration is  43.33934868843201\n",
      "The Distoration Measure score of this assignment is  576729914.9634187\n"
     ]
    },
    {
     "name": "stderr",
     "output_type": "stream",
     "text": [
      "\n",
      "  9%|▊         | 26/300 [01:02<11:21,  2.49s/it]\u001b[A"
     ]
    },
    {
     "name": "stdout",
     "output_type": "stream",
     "text": [
      "Restart 1  Iteration 26\n",
      "The Error of this iteration is  42.80627213024543\n",
      "The Distoration Measure score of this assignment is  576651568.9514319\n"
     ]
    },
    {
     "name": "stderr",
     "output_type": "stream",
     "text": [
      "\n",
      "  9%|▉         | 27/300 [01:05<11:30,  2.53s/it]\u001b[A"
     ]
    },
    {
     "name": "stdout",
     "output_type": "stream",
     "text": [
      "Restart 1  Iteration 27\n",
      "The Error of this iteration is  40.35677325384008\n",
      "The Distoration Measure score of this assignment is  576573077.6212704\n"
     ]
    },
    {
     "name": "stderr",
     "output_type": "stream",
     "text": [
      "\n",
      "  9%|▉         | 28/300 [01:07<11:30,  2.54s/it]\u001b[A"
     ]
    },
    {
     "name": "stdout",
     "output_type": "stream",
     "text": [
      "Restart 1  Iteration 28\n",
      "The Error of this iteration is  40.20034462749675\n",
      "The Distoration Measure score of this assignment is  576453137.6178455\n"
     ]
    },
    {
     "name": "stderr",
     "output_type": "stream",
     "text": [
      "\n",
      " 10%|▉         | 29/300 [01:10<12:10,  2.69s/it]\u001b[A"
     ]
    },
    {
     "name": "stdout",
     "output_type": "stream",
     "text": [
      "Restart 1  Iteration 29\n",
      "The Error of this iteration is  37.08183665289788\n",
      "The Distoration Measure score of this assignment is  576304516.0104527\n"
     ]
    },
    {
     "name": "stderr",
     "output_type": "stream",
     "text": [
      "\n",
      " 10%|█         | 30/300 [01:14<13:00,  2.89s/it]\u001b[A"
     ]
    },
    {
     "name": "stdout",
     "output_type": "stream",
     "text": [
      "Restart 1  Iteration 30\n",
      "The Error of this iteration is  37.70824231641732\n",
      "The Distoration Measure score of this assignment is  576194263.8313769\n"
     ]
    },
    {
     "name": "stderr",
     "output_type": "stream",
     "text": [
      "\n",
      " 10%|█         | 31/300 [01:17<13:32,  3.02s/it]\u001b[A"
     ]
    },
    {
     "name": "stdout",
     "output_type": "stream",
     "text": [
      "Restart 1  Iteration 31\n",
      "The Error of this iteration is  36.410424747613234\n",
      "The Distoration Measure score of this assignment is  576096567.0863119\n"
     ]
    },
    {
     "name": "stderr",
     "output_type": "stream",
     "text": [
      "\n",
      " 11%|█         | 32/300 [01:20<13:32,  3.03s/it]\u001b[A"
     ]
    },
    {
     "name": "stdout",
     "output_type": "stream",
     "text": [
      "Restart 1  Iteration 32\n",
      "The Error of this iteration is  31.328286910927794\n",
      "The Distoration Measure score of this assignment is  576027652.5480263\n"
     ]
    },
    {
     "name": "stderr",
     "output_type": "stream",
     "text": [
      "\n",
      " 11%|█         | 33/300 [01:23<13:10,  2.96s/it]\u001b[A"
     ]
    },
    {
     "name": "stdout",
     "output_type": "stream",
     "text": [
      "Restart 1  Iteration 33\n",
      "The Error of this iteration is  30.809809330971667\n",
      "The Distoration Measure score of this assignment is  575902301.4155818\n"
     ]
    },
    {
     "name": "stderr",
     "output_type": "stream",
     "text": [
      "\n",
      " 11%|█▏        | 34/300 [01:26<12:43,  2.87s/it]\u001b[A"
     ]
    },
    {
     "name": "stdout",
     "output_type": "stream",
     "text": [
      "Restart 1  Iteration 34\n",
      "The Error of this iteration is  24.77441758338641\n",
      "The Distoration Measure score of this assignment is  575849284.2785318\n"
     ]
    },
    {
     "name": "stderr",
     "output_type": "stream",
     "text": [
      "\n",
      " 12%|█▏        | 35/300 [01:28<12:18,  2.79s/it]\u001b[A"
     ]
    },
    {
     "name": "stdout",
     "output_type": "stream",
     "text": [
      "Restart 1  Iteration 35\n",
      "The Error of this iteration is  25.29041973826195\n",
      "The Distoration Measure score of this assignment is  575731036.8971183\n"
     ]
    },
    {
     "name": "stderr",
     "output_type": "stream",
     "text": [
      "\n",
      " 12%|█▏        | 36/300 [01:31<12:07,  2.75s/it]\u001b[A"
     ]
    },
    {
     "name": "stdout",
     "output_type": "stream",
     "text": [
      "Restart 1  Iteration 36\n",
      "The Error of this iteration is  21.06402711936204\n",
      "The Distoration Measure score of this assignment is  575629763.7545211\n"
     ]
    },
    {
     "name": "stderr",
     "output_type": "stream",
     "text": [
      "\n",
      " 12%|█▏        | 37/300 [01:34<12:03,  2.75s/it]\u001b[A"
     ]
    },
    {
     "name": "stdout",
     "output_type": "stream",
     "text": [
      "Restart 1  Iteration 37\n",
      "The Error of this iteration is  16.399213719637444\n",
      "The Distoration Measure score of this assignment is  575550831.8114974\n"
     ]
    },
    {
     "name": "stderr",
     "output_type": "stream",
     "text": [
      "\n",
      " 13%|█▎        | 38/300 [01:36<11:39,  2.67s/it]\u001b[A"
     ]
    },
    {
     "name": "stdout",
     "output_type": "stream",
     "text": [
      "Restart 1  Iteration 38\n",
      "The Error of this iteration is  13.721820473123817\n",
      "The Distoration Measure score of this assignment is  575515222.3400244\n"
     ]
    },
    {
     "name": "stderr",
     "output_type": "stream",
     "text": [
      "\n",
      " 13%|█▎        | 39/300 [01:39<11:28,  2.64s/it]\u001b[A"
     ]
    },
    {
     "name": "stdout",
     "output_type": "stream",
     "text": [
      "Restart 1  Iteration 39\n",
      "The Error of this iteration is  12.767909272618558\n",
      "The Distoration Measure score of this assignment is  575472698.0681964\n"
     ]
    },
    {
     "name": "stderr",
     "output_type": "stream",
     "text": [
      "\n",
      " 13%|█▎        | 40/300 [01:42<11:48,  2.73s/it]\u001b[A"
     ]
    },
    {
     "name": "stdout",
     "output_type": "stream",
     "text": [
      "Restart 1  Iteration 40\n",
      "The Error of this iteration is  13.07495497837213\n",
      "The Distoration Measure score of this assignment is  575377419.3134178\n"
     ]
    },
    {
     "name": "stderr",
     "output_type": "stream",
     "text": [
      "\n",
      " 14%|█▎        | 41/300 [01:44<11:38,  2.70s/it]\u001b[A"
     ]
    },
    {
     "name": "stdout",
     "output_type": "stream",
     "text": [
      "Restart 1  Iteration 41\n",
      "The Error of this iteration is  9.874858955352073\n",
      "The Distoration Measure score of this assignment is  575287214.9102302\n"
     ]
    },
    {
     "name": "stderr",
     "output_type": "stream",
     "text": [
      "\n",
      " 14%|█▍        | 42/300 [01:47<11:27,  2.67s/it]\u001b[A"
     ]
    },
    {
     "name": "stdout",
     "output_type": "stream",
     "text": [
      "Restart 1  Iteration 42\n",
      "The Error of this iteration is  9.738305074891638\n",
      "The Distoration Measure score of this assignment is  575224849.6233418\n"
     ]
    },
    {
     "name": "stderr",
     "output_type": "stream",
     "text": [
      "\n",
      " 14%|█▍        | 43/300 [01:49<11:07,  2.60s/it]\u001b[A"
     ]
    },
    {
     "name": "stdout",
     "output_type": "stream",
     "text": [
      "Restart 1  Iteration 43\n",
      "The Error of this iteration is  8.960120967050237\n",
      "The Distoration Measure score of this assignment is  575178888.1190381\n"
     ]
    },
    {
     "name": "stderr",
     "output_type": "stream",
     "text": [
      "\n",
      " 15%|█▍        | 44/300 [01:52<10:50,  2.54s/it]\u001b[A"
     ]
    },
    {
     "name": "stdout",
     "output_type": "stream",
     "text": [
      "Restart 1  Iteration 44\n",
      "The Error of this iteration is  8.173015376408882\n",
      "The Distoration Measure score of this assignment is  575102365.2569904\n"
     ]
    },
    {
     "name": "stderr",
     "output_type": "stream",
     "text": [
      "\n",
      " 15%|█▌        | 45/300 [01:54<10:37,  2.50s/it]\u001b[A"
     ]
    },
    {
     "name": "stdout",
     "output_type": "stream",
     "text": [
      "Restart 1  Iteration 45\n",
      "The Error of this iteration is  8.533514635584401\n",
      "The Distoration Measure score of this assignment is  575005927.3221633\n"
     ]
    },
    {
     "name": "stderr",
     "output_type": "stream",
     "text": [
      "\n",
      " 15%|█▌        | 46/300 [01:57<10:31,  2.49s/it]\u001b[A"
     ]
    },
    {
     "name": "stdout",
     "output_type": "stream",
     "text": [
      "Restart 1  Iteration 46\n",
      "The Error of this iteration is  6.854462536401649\n",
      "The Distoration Measure score of this assignment is  574932465.3994879\n"
     ]
    },
    {
     "name": "stderr",
     "output_type": "stream",
     "text": [
      "\n",
      " 16%|█▌        | 47/300 [01:59<10:40,  2.53s/it]\u001b[A"
     ]
    },
    {
     "name": "stdout",
     "output_type": "stream",
     "text": [
      "Restart 1  Iteration 47\n",
      "The Error of this iteration is  6.0075820940446665\n",
      "The Distoration Measure score of this assignment is  574888524.461606\n"
     ]
    },
    {
     "name": "stderr",
     "output_type": "stream",
     "text": [
      "\n",
      " 16%|█▌        | 48/300 [02:02<10:31,  2.51s/it]\u001b[A"
     ]
    },
    {
     "name": "stdout",
     "output_type": "stream",
     "text": [
      "Restart 1  Iteration 48\n",
      "The Error of this iteration is  5.84155653993393\n",
      "The Distoration Measure score of this assignment is  574866766.9356073\n"
     ]
    },
    {
     "name": "stderr",
     "output_type": "stream",
     "text": [
      "\n",
      " 16%|█▋        | 49/300 [02:04<10:29,  2.51s/it]\u001b[A"
     ]
    },
    {
     "name": "stdout",
     "output_type": "stream",
     "text": [
      "Restart 1  Iteration 49\n",
      "The Error of this iteration is  4.681659378088499\n",
      "The Distoration Measure score of this assignment is  574837213.5183212\n"
     ]
    },
    {
     "name": "stderr",
     "output_type": "stream",
     "text": [
      "\n",
      " 17%|█▋        | 50/300 [02:07<10:38,  2.55s/it]\u001b[A"
     ]
    },
    {
     "name": "stdout",
     "output_type": "stream",
     "text": [
      "Restart 1  Iteration 50\n",
      "The Error of this iteration is  3.917024435538809\n",
      "The Distoration Measure score of this assignment is  574823670.3829013\n"
     ]
    },
    {
     "name": "stderr",
     "output_type": "stream",
     "text": [
      "\n",
      " 17%|█▋        | 51/300 [02:09<10:40,  2.57s/it]\u001b[A"
     ]
    },
    {
     "name": "stdout",
     "output_type": "stream",
     "text": [
      "Restart 1  Iteration 51\n",
      "The Error of this iteration is  2.9840497563393877\n",
      "The Distoration Measure score of this assignment is  574789102.8781079\n"
     ]
    },
    {
     "name": "stderr",
     "output_type": "stream",
     "text": [
      "\n",
      " 17%|█▋        | 52/300 [02:12<11:07,  2.69s/it]\u001b[A"
     ]
    },
    {
     "name": "stdout",
     "output_type": "stream",
     "text": [
      "Restart 1  Iteration 52\n",
      "The Error of this iteration is  3.0878491000675647\n",
      "The Distoration Measure score of this assignment is  574766957.455729\n"
     ]
    },
    {
     "name": "stderr",
     "output_type": "stream",
     "text": [
      "\n",
      " 18%|█▊        | 53/300 [02:15<10:49,  2.63s/it]\u001b[A"
     ]
    },
    {
     "name": "stdout",
     "output_type": "stream",
     "text": [
      "Restart 1  Iteration 53\n",
      "The Error of this iteration is  3.5972259517260756\n",
      "The Distoration Measure score of this assignment is  574751231.9922777\n"
     ]
    },
    {
     "name": "stderr",
     "output_type": "stream",
     "text": [
      "\n",
      " 18%|█▊        | 54/300 [02:18<11:25,  2.78s/it]\u001b[A"
     ]
    },
    {
     "name": "stdout",
     "output_type": "stream",
     "text": [
      "Restart 1  Iteration 54\n",
      "The Error of this iteration is  1.7715681864739476\n",
      "The Distoration Measure score of this assignment is  574728497.0241306\n"
     ]
    },
    {
     "name": "stderr",
     "output_type": "stream",
     "text": [
      "\n",
      " 18%|█▊        | 55/300 [02:21<11:34,  2.83s/it]\u001b[A"
     ]
    },
    {
     "name": "stdout",
     "output_type": "stream",
     "text": [
      "Restart 1  Iteration 55\n",
      "The Error of this iteration is  1.185521687664445\n",
      "The Distoration Measure score of this assignment is  574725595.0330865\n"
     ]
    },
    {
     "name": "stderr",
     "output_type": "stream",
     "text": [
      "\n",
      " 19%|█▊        | 56/300 [02:24<11:13,  2.76s/it]\u001b[A"
     ]
    },
    {
     "name": "stdout",
     "output_type": "stream",
     "text": [
      "Restart 1  Iteration 56\n",
      "The Error of this iteration is  1.0750262318812134\n",
      "The Distoration Measure score of this assignment is  574711180.0724269\n"
     ]
    },
    {
     "name": "stderr",
     "output_type": "stream",
     "text": [
      "\n",
      " 19%|█▉        | 57/300 [02:26<11:06,  2.74s/it]\u001b[A"
     ]
    },
    {
     "name": "stdout",
     "output_type": "stream",
     "text": [
      "Restart 1  Iteration 57\n",
      "The Error of this iteration is  0.9895736754500607\n",
      "The Distoration Measure score of this assignment is  574700377.6950097\n"
     ]
    },
    {
     "name": "stderr",
     "output_type": "stream",
     "text": [
      "\n",
      " 19%|█▉        | 58/300 [02:29<10:59,  2.72s/it]\u001b[A"
     ]
    },
    {
     "name": "stdout",
     "output_type": "stream",
     "text": [
      "Restart 1  Iteration 58\n",
      "The Error of this iteration is  0.9181766375235866\n",
      "The Distoration Measure score of this assignment is  574689734.377918\n"
     ]
    },
    {
     "name": "stderr",
     "output_type": "stream",
     "text": [
      "\n",
      " 20%|█▉        | 59/300 [02:31<10:41,  2.66s/it]\u001b[A"
     ]
    },
    {
     "name": "stdout",
     "output_type": "stream",
     "text": [
      "Restart 1  Iteration 59\n",
      "The Error of this iteration is  0.5386748517957548\n",
      "The Distoration Measure score of this assignment is  574676084.2096045\n"
     ]
    },
    {
     "name": "stderr",
     "output_type": "stream",
     "text": [
      "\n",
      " 20%|██        | 60/300 [02:34<10:30,  2.63s/it]\u001b[A"
     ]
    },
    {
     "name": "stdout",
     "output_type": "stream",
     "text": [
      "Restart 1  Iteration 60\n",
      "The Error of this iteration is  0.6919315451765322\n",
      "The Distoration Measure score of this assignment is  574669150.7139432\n"
     ]
    },
    {
     "name": "stderr",
     "output_type": "stream",
     "text": [
      "\n",
      " 20%|██        | 61/300 [02:37<10:33,  2.65s/it]\u001b[A"
     ]
    },
    {
     "name": "stdout",
     "output_type": "stream",
     "text": [
      "Restart 1  Iteration 61\n",
      "The Error of this iteration is  0.24604961058798924\n",
      "The Distoration Measure score of this assignment is  574662753.9211885\n"
     ]
    },
    {
     "name": "stderr",
     "output_type": "stream",
     "text": [
      "\n",
      " 21%|██        | 62/300 [02:39<10:32,  2.66s/it]\u001b[A"
     ]
    },
    {
     "name": "stdout",
     "output_type": "stream",
     "text": [
      "Restart 1  Iteration 62\n",
      "The Error of this iteration is  0.30866796627055654\n",
      "The Distoration Measure score of this assignment is  574659316.5228906\n"
     ]
    },
    {
     "name": "stderr",
     "output_type": "stream",
     "text": [
      "\n",
      " 21%|██        | 63/300 [02:42<10:11,  2.58s/it]\u001b[A\n",
      "100%|██████████| 1/1 [02:43<00:00, 163.69s/it]"
     ]
    },
    {
     "name": "stdout",
     "output_type": "stream",
     "text": [
      "Restart 1  Iteration 63\n",
      "The Error of this iteration is  0.0\n",
      "The Distoration Measure score of this assignment is  574655678.0976384\n",
      "This Restart scored better than last _plorone. Updating Attributes...\n"
     ]
    },
    {
     "name": "stderr",
     "output_type": "stream",
     "text": [
      "\n"
     ]
    }
   ],
   "source": [
    "from source.kmeans import KMeans \n",
    "num_clusters = 3\n",
    "model = KMeans(num_clusters= num_clusters)\n",
    "model.fit(train_X)"
   ]
  },
  {
   "cell_type": "markdown",
   "metadata": {},
   "source": [
    "### Evaluting the fitted model"
   ]
  },
  {
   "cell_type": "code",
   "execution_count": null,
   "metadata": {},
   "outputs": [],
   "source": [
    "print(\"The Model needed \",model.iter_num_,\" iterations to converge.\")\n",
    "print(\"The Model scored \",model.distoration_measure_,\" for the distoration measure value.\")"
   ]
  },
  {
   "cell_type": "markdown",
   "metadata": {},
   "source": [
    "### Visualizing the fitted model\n",
    "Plotting the cluster centroids."
   ]
  },
  {
   "cell_type": "code",
   "execution_count": null,
   "metadata": {
    "scrolled": false
   },
   "outputs": [],
   "source": [
    "import matplotlib.pyplot as plt\n",
    "for centroid in model.centroids_:\n",
    "    centroid = centroid.transpose((1,2,0)).astype(int)\n",
    "    plt.figure()\n",
    "    plt.imshow(centroid)"
   ]
  },
  {
   "cell_type": "markdown",
   "metadata": {},
   "source": [
    "### Visualizing the fitted model\n",
    "Plotting cluster representatives of each cluster."
   ]
  },
  {
   "cell_type": "code",
   "execution_count": null,
   "metadata": {},
   "outputs": [],
   "source": [
    "import matplotlib.pyplot as plt\n",
    "import numpy as np\n",
    "cluster_representatives_index = np.unique(model.cluster_labels_, return_index=True)[1]\n",
    "for cluster in range(cluster_representatives_index.shape[0]):  \n",
    "    plt.figure()\n",
    "    plt.imshow(train_X[cluster].transpose((1,2,0)))"
   ]
  },
  {
   "cell_type": "markdown",
   "metadata": {},
   "source": [
    "### Visualizing the fitted model\n",
    "Plotting measure vs iteration histories of the kmeans run."
   ]
  },
  {
   "cell_type": "code",
   "execution_count": null,
   "metadata": {},
   "outputs": [],
   "source": [
    "model.plot_measure_vs_iteration()"
   ]
  },
  {
   "cell_type": "markdown",
   "metadata": {},
   "source": [
    "### Advanced Experiments: Trying out re-running Kmeans with more K values = [3, 5, 10, 15]"
   ]
  },
  {
   "cell_type": "code",
   "execution_count": null,
   "metadata": {},
   "outputs": [],
   "source": [
    "models = []\n",
    "for num_clusters_trial in [3,5,10,15]:\n",
    "    model = KMeans(num_clusters= num_clusters_trial)\n",
    "    model.fit(train_X)\n",
    "    models.append(model)"
   ]
  },
  {
   "cell_type": "markdown",
   "metadata": {},
   "source": [
    "#### Evaluating the expriement results: \n",
    "    Model 1 with K=3 has the minimum distoration measure score. \n",
    "    Also, we notice that the results are widely different in case of changing K values."
   ]
  },
  {
   "cell_type": "code",
   "execution_count": null,
   "metadata": {
    "scrolled": false
   },
   "outputs": [],
   "source": [
    "k_values = [3,5,10,15]\n",
    "for index,model in enumerate(models):    \n",
    "    print(\"****** Model\",index+1,\", K = \",k_values[index],\" ******\")\n",
    "    print(\"The Model needed \",model.iter_num_,\" iterations to converge.\")\n",
    "    print(\"The Model scored \",model.distoration_measure_,\" for the distoration measure value.\")\n",
    "    model.plot_measure_vs_iteration()"
   ]
  },
  {
   "cell_type": "markdown",
   "metadata": {},
   "source": [
    "### Advanced Experiments: Trying out re-running Kmeans with more 3 restarts\n",
    "#### With  best preforming model from above."
   ]
  },
  {
   "cell_type": "code",
   "execution_count": null,
   "metadata": {},
   "outputs": [],
   "source": [
    "model = KMeans(num_clusters= 3, num_restarts = 3)\n",
    "model.fit(train_X)\n",
    "models.append(model)"
   ]
  },
  {
   "cell_type": "markdown",
   "metadata": {},
   "source": [
    "#### Evaluating the expriement results: \n",
    "    Original run of Kmeans gave distoration measure of 574652597.7368706\n",
    "    First restart of Kmeans gave distoration measure of 574559070.1893139\n",
    "    Second restart of Kmeans gave distoration measure of 574655678.0976384\n",
    "    Third restart of Kmeans gave distoration measure of 574655678.0976384\n",
    "    \n",
    "#### Notice that the changes in restarts doesn't wildely change the distoration measure. Only minor improvements are made."
   ]
  }
 ],
 "metadata": {
  "kernelspec": {
   "display_name": "Python 3",
   "language": "python",
   "name": "python3"
  },
  "language_info": {
   "codemirror_mode": {
    "name": "ipython",
    "version": 3
   },
   "file_extension": ".py",
   "mimetype": "text/x-python",
   "name": "python",
   "nbconvert_exporter": "python",
   "pygments_lexer": "ipython3",
   "version": "3.7.5"
  }
 },
 "nbformat": 4,
 "nbformat_minor": 2
}
